{
 "cells": [
  {
   "cell_type": "code",
   "execution_count": 1,
   "id": "1085e06e-8ce4-4ac1-bda6-af2dab488fd8",
   "metadata": {
    "editable": true,
    "slideshow": {
     "slide_type": ""
    },
    "tags": []
   },
   "outputs": [],
   "source": [
    "import matplotlib.pyplot as plt\n",
    "import cartopy.crs as ccrs               \n",
    "import cartopy.feature as cfeature         \n",
    "import cartopy.util as cutil\n",
    "import xarray as xr                        \n",
    "import numpy as np\n",
    "import pandas as pd\n",
    "import plotting_module\n",
    "import xesmf as xe"
   ]
  },
  {
   "cell_type": "code",
   "execution_count": 2,
   "id": "306c5012-6583-42f1-a076-e390584659d6",
   "metadata": {},
   "outputs": [],
   "source": [
    "ozone_dataset = xr.open_dataset(\"/glade/campaign/acom/acom-climate/UTLS/shawnh/archive/FCnudged_f09.mam.mar27.2000_2021.002/atm/proc/tseries/month_1/FCnudged_f09.mam.mar27.2000_2021.002.cam.h0.O3.200201-202412.nc\")\n",
    "pdeldry_dataset = xr.open_dataset(\"/glade/campaign/acom/acom-climate/UTLS/shawnh/archive/FCnudged_f09.mam.mar27.2000_2021.002/atm/proc/tseries/month_1/FCnudged_f09.mam.mar27.2000_2021.002.cam.h0.PDELDRY.200201-202412.nc\")\n",
    "ps_dataset = xr.open_dataset('/glade/campaign/acom/acom-climate/UTLS/shawnh/archive/FCnudged_f09.mam.mar27.2000_2021.002/atm/proc/tseries/month_1/FCnudged_f09.mam.mar27.2000_2021.002.cam.h0.PS.200201-202412.nc')"
   ]
  },
  {
   "cell_type": "code",
   "execution_count": 3,
   "id": "5f9e2313-79eb-43de-89be-f78ca343799e",
   "metadata": {},
   "outputs": [],
   "source": [
    "ozone = ozone_dataset[\"O3\"]"
   ]
  },
  {
   "cell_type": "code",
   "execution_count": 4,
   "id": "10a53a24-0805-43e3-97a7-22fbd5505cb7",
   "metadata": {
    "scrolled": true
   },
   "outputs": [],
   "source": [
    "p0 = ozone_dataset[\"P0\"]\n",
    "hyai = ozone_dataset[\"hyai\"]\n",
    "hybi = ozone_dataset[\"hybi\"]\n",
    "ps = ps_dataset['PS']\n",
    "pdeldry = pdeldry_dataset['PDELDRY']\n",
    "lev = ozone_dataset.coords['lev']\n",
    "num_lev = lev.shape[0]\n",
    "\n",
    "# convert to hPa from Pa\n",
    "p0 = p0.copy() / 100\n",
    "ps = ps.copy() / 100\n",
    "pdeldry = pdeldry.copy() / 100 \n",
    "\n",
    "# truncate to levels 16-31\n",
    "truncated_pdeldry = pdeldry.isel({pdeldry.dims[1]: slice(17, 31)})\n",
    "truncated_ozone = ozone.isel({ozone.dims[1]: slice(17, 31)})"
   ]
  },
  {
   "cell_type": "markdown",
   "id": "5bb65b57-efac-48e0-b87b-a85891878e63",
   "metadata": {},
   "source": [
    "Now group 'ozone' and 'pdeldry' DataArrays by months"
   ]
  },
  {
   "cell_type": "code",
   "execution_count": 5,
   "id": "af71789f-c4ee-4b61-89b7-2960cb2e359f",
   "metadata": {},
   "outputs": [],
   "source": [
    "start_date = '2005-02-01'\n",
    "end_date = '2025-01-01'\n",
    "\n",
    "# group the 240 month dates based on calendar months for both PDELDRY and O3 variables\n",
    "\n",
    "truncated_pdeldry = truncated_pdeldry.sel(time=slice(start_date, end_date))\n",
    "pdeldry_monthly_mean = truncated_pdeldry.groupby('time.month').mean('time')\n",
    "pdeldry_monthly_mean = pdeldry_monthly_mean.transpose('lev','month','lat','lon')\n",
    "\n",
    "truncated_ozone = truncated_ozone.sel(time=slice(start_date, end_date))\n",
    "ozone_monthly_mean = truncated_ozone.groupby('time.month').mean('time')\n",
    "ozone_monthly_mean = ozone_monthly_mean.transpose('lev','month','lat','lon')"
   ]
  },
  {
   "cell_type": "code",
   "execution_count": 6,
   "id": "2a39ea65-3d16-4f5a-8a53-1c155ee47678",
   "metadata": {},
   "outputs": [],
   "source": [
    "# constants / conversion factor\n",
    "NAv = 6.0221415e+23                       # molecules in mole\n",
    "g = 9.81                                  # gravity\n",
    "MWair = 28.94                             # g/mol\n",
    "xp_const = (NAv * 10)/(MWair*g)           # scaling factor, pa to hPa and cm to m\n",
    "DU_CONVERSION = 2.69 * 10**16"
   ]
  },
  {
   "cell_type": "code",
   "execution_count": null,
   "id": "b9a7a1ca-ea3b-42d3-a805-8f5e7c51408a",
   "metadata": {},
   "outputs": [],
   "source": [
    "# Initialize pressure edge arrays\n",
    "mod_press_low = xr.zeros_like(ozone).transpose('lev','lat','lon','time')\n",
    "mod_press_top = xr.zeros_like(ozone).transpose('lev','lat','lon','time')"
   ]
  },
  {
   "cell_type": "markdown",
   "id": "db3076b2-76ac-4274-8a68-033210bd9705",
   "metadata": {},
   "source": [
    "Calculating pressure at hybrid levels\n",
    "\n",
    "p(k) = a(k) * p0 + b(k) * ps"
   ]
  },
  {
   "cell_type": "code",
   "execution_count": null,
   "id": "4ffdb242-d4f4-46c1-b31c-dbe34bd55cfa",
   "metadata": {},
   "outputs": [],
   "source": [
    "# Calculate pressure edge arrays\n",
    "# CAM-chem layer indices start at the top and end at the bottom\n",
    "for i in range(num_lev):\n",
    "    mod_press_top[i,:,:,:] = hyai[i]*p0 + hybi[i]*ps"
   ]
  },
  {
   "cell_type": "code",
   "execution_count": null,
   "id": "86862819-aade-4929-b6ca-02d7b6bac2f1",
   "metadata": {
    "scrolled": true
   },
   "outputs": [],
   "source": [
    "mod_press_top = mod_press_top.transpose('lev', 'time', 'lat', 'lon')"
   ]
  },
  {
   "cell_type": "code",
   "execution_count": null,
   "id": "a6c3096b-f8ba-4996-8cdf-978d3b933e6f",
   "metadata": {},
   "outputs": [],
   "source": [
    "filtered_300hpa_upper = mod_press_top.where(mod_press_top >= 300, drop=False)\n",
    "filtered_300hpa_upper = filtered_300hpa_upper.where(mod_press_top < 322.24, drop=False)"
   ]
  },
  {
   "cell_type": "code",
   "execution_count": null,
   "id": "04fea00c-3f8b-4204-bb78-e9fcbe36f3be",
   "metadata": {},
   "outputs": [],
   "source": [
    "mod_deltap = abs(300 - filtered_300hpa_upper)"
   ]
  },
  {
   "cell_type": "code",
   "execution_count": null,
   "id": "94585b67-89f1-4424-924b-f4d77584d935",
   "metadata": {},
   "outputs": [],
   "source": [
    "mod_deltap[17][36][10]"
   ]
  },
  {
   "cell_type": "code",
   "execution_count": null,
   "id": "5ef24d58-5c07-4f4a-98ef-f168a7976664",
   "metadata": {},
   "outputs": [],
   "source": [
    "ozone_filtered = ozone.where(mod_deltap.notnull())\n",
    "ozone_filtered = ozone_filtered.transpose('lev','time','lat','lon')"
   ]
  },
  {
   "cell_type": "code",
   "execution_count": null,
   "id": "d9805e9d-fd2b-4287-9d43-ed934c275180",
   "metadata": {},
   "outputs": [],
   "source": [
    "mod_deltap_filtered = mod_deltap.where(ozone_filtered.notnull())"
   ]
  },
  {
   "cell_type": "code",
   "execution_count": null,
   "id": "8437b82c-a6b0-454c-b1fa-cdb8cd0b6fca",
   "metadata": {},
   "outputs": [],
   "source": [
    "mod_deltap_filtered = mod_deltap_filtered.fillna(0)\n",
    "ozone_filtered = ozone_filtered.fillna(0)"
   ]
  },
  {
   "cell_type": "code",
   "execution_count": null,
   "id": "38dc39be-e9a2-4450-a05e-12301a8bf3f1",
   "metadata": {
    "scrolled": true
   },
   "outputs": [],
   "source": [
    "mod_deltap_filtered[17][36][10]"
   ]
  },
  {
   "cell_type": "code",
   "execution_count": null,
   "id": "3a042d84-0ee7-4ff1-a57d-105d9b2845d7",
   "metadata": {},
   "outputs": [],
   "source": [
    "mod_deltap_filtered = mod_deltap_filtered.sel(time=slice(start_date, end_date))\n",
    "ozone_filtered = ozone_filtered.sel(time=slice(start_date, end_date))\n",
    "\n",
    "mod_deltap_filtered = mod_deltap_filtered.groupby('time.month').mean('time')\n",
    "ozone_filtered = ozone_filtered.groupby('time.month').mean('time')"
   ]
  },
  {
   "cell_type": "code",
   "execution_count": null,
   "id": "8d907e52-eee6-4e77-beaa-5ac68e26efb1",
   "metadata": {},
   "outputs": [],
   "source": [
    "mod_deltap_filtered.mean(dim={'lev', 'month','lat','lon'}, skipna=True)"
   ]
  },
  {
   "cell_type": "markdown",
   "id": "eced75ba-0d36-4d74-bc40-4b39ef28e578",
   "metadata": {},
   "source": [
    "Calculating ozone column for [300hPa, 322.24hPa) and averaging it"
   ]
  },
  {
   "cell_type": "code",
   "execution_count": null,
   "id": "28c2df8b-0026-449b-8e32-c4df88c90ddb",
   "metadata": {},
   "outputs": [],
   "source": [
    "ozone_300hpa_column = xr.dot(mod_deltap_filtered, xp_const*ozone_filtered, dims='lev')"
   ]
  },
  {
   "cell_type": "code",
   "execution_count": null,
   "id": "e1234f8d-ff41-40fe-983e-eaa053f59db5",
   "metadata": {},
   "outputs": [],
   "source": [
    "ozone_du_300hpa_column = ozone_300hpa_column.copy() / DU_CONVERSION\n",
    "\n",
    "ozone_du_300hpa_column = ozone_du_300hpa_column.where(ozone_du_300hpa_column != 0)"
   ]
  },
  {
   "cell_type": "code",
   "execution_count": null,
   "id": "a53d8f9d-5066-47eb-b68f-a869ca345351",
   "metadata": {},
   "outputs": [],
   "source": [
    "#ozone_du_300hpa_column = ozone_du_300hpa_column.sel(time=slice(start_date, end_date))\n",
    "#ozone_du_300hpa_column = ozone_du_300hpa_column.groupby('time.month').mean('time')"
   ]
  },
  {
   "cell_type": "markdown",
   "id": "9a26cad4-9aa9-4eea-840d-bf1113728737",
   "metadata": {},
   "source": [
    "Now calculating ozone column from 322.24hPa to ground level"
   ]
  },
  {
   "cell_type": "code",
   "execution_count": null,
   "id": "1cdf2a83-5930-4e37-b3ba-589b9646099e",
   "metadata": {},
   "outputs": [],
   "source": [
    "ozone_part_column = xr.dot(pdeldry_monthly_mean, xp_const*ozone_monthly_mean, dims='lev')"
   ]
  },
  {
   "cell_type": "code",
   "execution_count": null,
   "id": "8821502d-c281-4840-bf38-6c99b299d5d8",
   "metadata": {},
   "outputs": [],
   "source": [
    "ozone_du_column = ozone_part_column.copy() / DU_CONVERSION"
   ]
  },
  {
   "cell_type": "markdown",
   "id": "f89ef4df-f1d9-4816-a75d-3f67318ccbf7",
   "metadata": {},
   "source": [
    "Now calculate total tropospheric column ozone"
   ]
  },
  {
   "cell_type": "code",
   "execution_count": null,
   "id": "610c1919-ca0c-4e80-ab67-31925cf3038e",
   "metadata": {},
   "outputs": [],
   "source": [
    "ozone_du_300hpa_column = ozone_du_300hpa_column.fillna(0)\n",
    "total_tco = ozone_du_column + ozone_du_300hpa_column"
   ]
  },
  {
   "cell_type": "code",
   "execution_count": null,
   "id": "f45d6a64-0423-4b92-8153-f5052386a5c9",
   "metadata": {
    "scrolled": true
   },
   "outputs": [],
   "source": [
    "total_tco"
   ]
  },
  {
   "cell_type": "markdown",
   "id": "28a4baa5-0c63-4a07-840d-d51d5fc894e3",
   "metadata": {},
   "source": [
    "Regridding and plotting"
   ]
  },
  {
   "cell_type": "code",
   "execution_count": null,
   "id": "ef8225b1-da2c-42a1-a72a-84a6b208b766",
   "metadata": {},
   "outputs": [],
   "source": [
    "omi_mls_ds = xr.open_dataarray(\"/glade/u/home/mvoncyga/SOARS_2025/OMIMLS_300hpa_monthly_mean_2005_2024.nc\")\n",
    "omi_mls_ds = omi_mls_ds.rename({'latitude': 'lat', 'longitude': 'lon'})\n",
    "\n",
    "# shifting lon to be 0-360\n",
    "omi_mls_ds['lon'] = omi_mls_ds['lon'] % 360\n",
    "omi_mls_ds = omi_mls_ds.sortby('lon')"
   ]
  },
  {
   "cell_type": "code",
   "execution_count": null,
   "id": "b841920c-ce0d-4db0-abad-b464c47c30ca",
   "metadata": {},
   "outputs": [],
   "source": [
    "#ozone_du_column_regridded = ozone_du_column.interp(coords=dict(lat=omi_mls_ds.lat, lon=omi_mls_ds.lon), method='linear')\n",
    "regridder = xe.Regridder(total_tco, omi_mls_ds, 'bilinear', periodic=True)                                                                             "
   ]
  },
  {
   "cell_type": "code",
   "execution_count": null,
   "id": "e8361b0d-fb69-4762-83dd-979f19ce6315",
   "metadata": {},
   "outputs": [],
   "source": [
    "cesm_regridded = regridder(total_tco)"
   ]
  },
  {
   "cell_type": "code",
   "execution_count": null,
   "id": "ec292a6d-34a6-4c18-a08b-e214cd849040",
   "metadata": {
    "scrolled": true
   },
   "outputs": [],
   "source": [
    "cesm_regridded"
   ]
  },
  {
   "cell_type": "code",
   "execution_count": null,
   "id": "9f531c6c-2aa8-45bd-8a7a-2a3cf6e62f9c",
   "metadata": {
    "scrolled": true
   },
   "outputs": [],
   "source": [
    "month_list = ['January', 'February', 'March', 'April', 'May', 'June', 'July', 'August', 'September', 'October', 'November', 'December']\n",
    "\n",
    "for i in range(12):\n",
    "    plt.figure(figsize=(10,8))\n",
    "    ax = plt.axes(projection=ccrs.PlateCarree())\n",
    "\n",
    "    # plotting data\n",
    "    cesm_regridded[i].plot(vmin=5, vmax=40)\n",
    "    \n",
    "    ax.set_title(\"CESM $\\mathregular{O_3}$ Concentration, \"+ str(month_list[i]), fontsize=18)\n",
    "    \n",
    "    # add coastlines\n",
    "    ax.add_feature(cfeature.COASTLINE, linestyle='--')\n",
    "\n",
    "    # add lat lon grids\n",
    "    gl = ax.gridlines(draw_labels=True, color='grey', alpha=0.8, linestyle='--')\n",
    "    gl.xlabels_top = False\n",
    "    gl.ylabels_right = False\n",
    "    \n",
    "    plt.show()"
   ]
  },
  {
   "cell_type": "code",
   "execution_count": null,
   "id": "b24e9d8a-71d2-47ba-9faf-7e6fee5f4495",
   "metadata": {},
   "outputs": [],
   "source": [
    "difference = cesm_regridded - omi_mls_ds"
   ]
  },
  {
   "cell_type": "code",
   "execution_count": null,
   "id": "517b9061-75f4-45dc-9560-beafbeb10f97",
   "metadata": {},
   "outputs": [],
   "source": [
    "difference.mean(dim={'month','lat','lon'}, skipna=True)"
   ]
  },
  {
   "cell_type": "code",
   "execution_count": null,
   "id": "63c162c9-182f-4f58-8f07-c826f9bc0397",
   "metadata": {
    "scrolled": true
   },
   "outputs": [],
   "source": [
    "alphabet = ['a', 'b', 'c', 'd', 'e', 'f', 'g', 'h', 'i', 'j', 'k', 'l'] # for cycling through figures to create a gif\n",
    "\n",
    "i = 0\n",
    "for i in range(12):\n",
    "    \n",
    "    plt.figure(figsize=(10, 6))\n",
    "    ax.set_facecolor('gray')\n",
    "    ax = plt.axes(projection=ccrs.PlateCarree())\n",
    "    difference[i].plot(ax=ax,transform=ccrs.PlateCarree(central_longitude=0), vmin = -20, vmax = 20, extend='both', cmap='bwr')\n",
    "    ax.add_feature(cfeature.COASTLINE, linestyle='--')\n",
    "    ax.set_global()\n",
    "\n",
    "    # adding gridlines\n",
    "    ax.gridlines(draw_labels=True, color='black', alpha=0.5, linestyle='--')\n",
    "    ax.set_title(\"CESM - OMI/MLS Tropo O3 Difference: \" + month_list[i] + \", 2005-2024\", fontsize=14)\n",
    "    \n",
    "    formatted_mean = f\"{difference[i].mean().data:.3f}\"\n",
    "\n",
    "    ax.text(0.10, -0.25, 'Mean: ' + str(formatted_mean) + ' DU', va='bottom', ha='center',\n",
    "            rotation='horizontal', rotation_mode='anchor',\n",
    "            transform=ax.transAxes, fontsize=12)\n",
    "    \n",
    "\n",
    "    #plt.savefig(\"figures/CESM_Diff-\" + str(alphabet[i]))\n",
    "    i+=1\n",
    "\n",
    "    plt.show"
   ]
  },
  {
   "cell_type": "code",
   "execution_count": null,
   "id": "8a0e288e-b4ec-4af6-b533-7d6987a39ab5",
   "metadata": {},
   "outputs": [],
   "source": [
    "import imageio\n",
    "import os\n",
    "\n",
    "def create_gif(image_folder, output_gif, duration):\n",
    "    filenames = sorted([f for f in os.listdir(image_folder) if os.path.isfile(os.path.join(image_folder, f))])\n",
    "    images = []\n",
    "    for filename in filenames:\n",
    "        if filename.startswith(\"CESM_Diff\"):\n",
    "            image_path = os.path.join(image_folder, filename)\n",
    "            images.append(imageio.imread(image_path))\n",
    "    imageio.mimsave(output_gif, images, duration=duration)\n",
    "\n",
    "image_dir = '/glade/u/home/mvoncyga/SOARS_2025/figures/'\n",
    "\n",
    "#create_gif(image_dir, \"Difference_Plot.gif\", duration=1000)"
   ]
  }
 ],
 "metadata": {
  "kernelspec": {
   "display_name": "NPL 2025a",
   "language": "python",
   "name": "npl-2025a"
  },
  "language_info": {
   "codemirror_mode": {
    "name": "ipython",
    "version": 3
   },
   "file_extension": ".py",
   "mimetype": "text/x-python",
   "name": "python",
   "nbconvert_exporter": "python",
   "pygments_lexer": "ipython3",
   "version": "3.12.8"
  }
 },
 "nbformat": 4,
 "nbformat_minor": 5
}
