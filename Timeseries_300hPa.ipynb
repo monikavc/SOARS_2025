{
 "cells": [
  {
   "cell_type": "code",
   "execution_count": 1,
   "id": "f4d52021-79cd-4d1f-abb8-89714da9767a",
   "metadata": {},
   "outputs": [],
   "source": [
    "# plotting\n",
    "import matplotlib.pyplot as plt\n",
    "from matplotlib.ticker import AutoMinorLocator\n",
    "\n",
    "# calculating/regridding\n",
    "import xarray as xr                        \n",
    "import numpy as np \n",
    "import pandas as pd\n",
    "import xesmf as xe\n",
    "from scipy.stats import linregress"
   ]
  },
  {
   "cell_type": "code",
   "execution_count": 2,
   "id": "4ea39c96-8d2a-429e-b595-b77dab9ece75",
   "metadata": {},
   "outputs": [],
   "source": [
    "omi_mls_ds = xr.open_dataarray(\"/glade/u/home/mvoncyga/SOARS_2025/300hpa_full_monthly_omimls_tco.nc\")\n",
    "omi_mls_ds = omi_mls_ds.rename({'latitude': 'lat', 'longitude': 'lon'})\n",
    "\n",
    "# shifting lon to be 0-360\n",
    "omi_mls_ds['lon'] = omi_mls_ds['lon'] % 360\n",
    "omi_mls_ds = omi_mls_ds.sortby('lon')"
   ]
  },
  {
   "cell_type": "code",
   "execution_count": 3,
   "id": "1b587ab7-1232-46cd-839a-073c55dfdbc4",
   "metadata": {},
   "outputs": [],
   "source": [
    "cesm_output = xr.open_dataarray(\"/glade/u/home/mvoncyga/SOARS_2025/300hPa_tco_cesm_monthly.nc\")"
   ]
  },
  {
   "cell_type": "code",
   "execution_count": 4,
   "id": "b1e97b77-0f32-459d-bdb8-fa6a8f8a4170",
   "metadata": {},
   "outputs": [],
   "source": [
    "regridder = xe.Regridder(cesm_output, omi_mls_ds, 'bilinear', periodic=True) \n",
    "cesm_regridded = regridder(cesm_output)"
   ]
  },
  {
   "cell_type": "code",
   "execution_count": 5,
   "id": "d336fbc4-ba37-49d1-8bc1-acbded52f07a",
   "metadata": {},
   "outputs": [],
   "source": [
    "global_cesm_data = cesm_regridded.mean(dim={'lat','lon'})\n",
    "#global_cesm_data"
   ]
  },
  {
   "cell_type": "code",
   "execution_count": 6,
   "id": "f8a34514-cc21-42a2-9bd8-442579a72ecc",
   "metadata": {},
   "outputs": [],
   "source": [
    "cesm_dates = global_cesm_data.coords['time']\n",
    "num_cesm_dates = np.arange(0, len(cesm_dates), 1)"
   ]
  },
  {
   "cell_type": "code",
   "execution_count": 7,
   "id": "dfa50f86-bbd1-401d-b5f1-6612b1798b4b",
   "metadata": {},
   "outputs": [],
   "source": [
    "cesm_slope, cesm_intercept, r_value_cesm, p_value, std_err = linregress(num_cesm_dates, global_cesm_data)\n",
    "cesm_lin_reg = cesm_slope * num_cesm_dates + cesm_intercept\n",
    "r_squared_cesm = r_value_cesm**2"
   ]
  },
  {
   "cell_type": "code",
   "execution_count": null,
   "id": "bd8b0508-ddf4-45f1-816e-1551ec418331",
   "metadata": {},
   "outputs": [],
   "source": [
    "def timeseries_plot(dates, dataset, linreg, title, r_squared, slope, intercept, save=False, save_level='999'):\n",
    "    plt.figure(figsize=(10,6))\n",
    "    ax = plt.axes()\n",
    "\n",
    "    plt.plot(dates, dataset, linewidth=2, color='#5acc0e')\n",
    "    plt.plot(dates, linreg, color='black', linestyle='dashdot', linewidth=1.5)\n",
    "\n",
    "    plt.grid(True, linestyle='--', alpha=0.7)\n",
    "    mean = f\"{dataset.mean().data:.3f}\"\n",
    "\n",
    "    ax.text(0.075, 0.07, '$R^2=$' + f\"{r_squared:.3f}\", horizontalalignment='center', verticalalignment='center', transform=ax.transAxes, fontsize=15)\n",
    "    ax.text(0.22, 0.02, \"Trend: \" f'y = {slope:.2f}x + {intercept:.2f}' + \" DU/month\", horizontalalignment='center', verticalalignment='center', transform=ax.transAxes, fontsize=15)\n",
    "    ax.text(0.1055, 0.125, 'Mean: ' + str(mean) + \" DU\", horizontalalignment='center', verticalalignment='center', transform=ax.transAxes, fontsize=15)\n",
    "\n",
    "\n",
    "    ax.xaxis.set_minor_locator(AutoMinorLocator(2))\n",
    "    ax.yaxis.set_minor_locator(AutoMinorLocator(2))\n",
    "    ax.tick_params(which='major', width=2)\n",
    "    ax.tick_params(which='minor', width=1)\n",
    "    ax.tick_params(which='major', length=5)\n",
    "    ax.tick_params(which='minor', length=4)\n",
    "\n",
    "    plt.title(title, fontsize=19)\n",
    "    plt.ylabel(\"$\\mathregular{O_3}$ Concentration (DU)\", fontsize=15)\n",
    "    plt.xticks(rotation=45)\n",
    "    plt.tight_layout()\n",
    "\n",
    "    \n",
    "    if save==True:\n",
    "        plt.savefig(\"figures/Annual_Time_Series_\" + save_level + \"_hPa.png\")\n",
    "        \n",
    "    plt.show()"
   ]
  },
  {
   "cell_type": "code",
   "execution_count": null,
   "id": "db5f1491-d4ed-4829-97f0-d74b56e94e4e",
   "metadata": {},
   "outputs": [],
   "source": [
    "timeseries_plot(cesm_dates, global_cesm_data, cesm_lin_reg, \"CESM Annual 300hPa TCO\", r_squared_cesm, cesm_slope, cesm_intercept)"
   ]
  },
  {
   "cell_type": "code",
   "execution_count": null,
   "id": "6724c12b-9e3c-433c-b83c-20d1cccabea5",
   "metadata": {},
   "outputs": [],
   "source": [
    "global_omi_mls_data = omi_mls_ds.mean(dim={'lat','lon'})\n",
    "#global_omi_mls_data"
   ]
  },
  {
   "cell_type": "code",
   "execution_count": null,
   "id": "32faae63-9fcf-4890-9410-3c6ee109fd81",
   "metadata": {},
   "outputs": [],
   "source": [
    "omi_mls_dates = omi_mls_ds.coords['yearmonth']\n",
    "num_omi_mls_dates = np.arange(0, len(omi_mls_dates), 1)"
   ]
  },
  {
   "cell_type": "code",
   "execution_count": null,
   "id": "1bd3b8b0-957a-45c8-9fd8-018578b057f9",
   "metadata": {},
   "outputs": [],
   "source": [
    "omi_mls_slope, omi_mls_intercept, r_value_omi_mls, p_value, std_err = linregress(num_omi_mls_dates, global_omi_mls_data)\n",
    "omi_mls_lin_reg = omi_mls_slope * num_omi_mls_dates + omi_mls_intercept\n",
    "r_squared_omi_mls = r_value_omi_mls**2"
   ]
  },
  {
   "cell_type": "code",
   "execution_count": null,
   "id": "65c962a4-df75-4289-95e0-c7eb8fb1cdea",
   "metadata": {},
   "outputs": [],
   "source": [
    "timeseries_plot(omi_mls_dates, global_omi_mls_data, omi_mls_lin_reg, \"OMI/MLS Annual 300hPa TCO\", r_squared_omi_mls, omi_mls_slope, omi_mls_intercept) # True, \"OMIMLS_300\""
   ]
  },
  {
   "cell_type": "code",
   "execution_count": null,
   "id": "f0f45b26-2cb9-4aa5-af2a-feb940f3cec9",
   "metadata": {},
   "outputs": [],
   "source": [
    "global_omi_mls_data = global_omi_mls_data.rename({\"yearmonth\": \"time\"})\n",
    "difference = global_cesm_data - global_omi_mls_data"
   ]
  },
  {
   "cell_type": "code",
   "execution_count": null,
   "id": "c6936c54-b98d-4693-8094-9c3ea90138e5",
   "metadata": {},
   "outputs": [],
   "source": [
    "diff_dates = difference.coords['time']\n",
    "num_diff_dates = np.arange(0, len(diff_dates), 1)"
   ]
  },
  {
   "cell_type": "code",
   "execution_count": null,
   "id": "916cc73a-e22d-4292-be0d-b3cdbdf36f01",
   "metadata": {},
   "outputs": [],
   "source": [
    "diff_slope, diff_intercept, r_value_diff, p_value, std_err = linregress(num_diff_dates, difference)\n",
    "diff_lin_reg = diff_slope * num_diff_dates + diff_intercept\n",
    "r_squared_diff = r_value_diff**2"
   ]
  },
  {
   "cell_type": "code",
   "execution_count": null,
   "id": "ef49c1f8-7aa4-4c83-881a-dd5675a20e70",
   "metadata": {},
   "outputs": [],
   "source": [
    "timeseries_plot(diff_dates, difference, diff_lin_reg, \"CESM/OMI-MLS Difference Annual Ground-to-300hPa TCO\", r_squared_diff, diff_slope, diff_intercept,True, '300')"
   ]
  },
  {
   "cell_type": "code",
   "execution_count": null,
   "id": "27223199-5365-4bd8-9ee6-d0740ce1ec3a",
   "metadata": {},
   "outputs": [],
   "source": [
    "plt.figure(figsize=(12,8))\n",
    "ax = plt.axes()\n",
    "\n",
    "plt.plot(cesm_dates, global_cesm_data, linewidth=2.5, color='#5acc0e')\n",
    "plt.plot(cesm_dates, global_omi_mls_data, linewidth=2.5, color=\"#9c102c\")\n",
    "\n",
    "plt.plot(cesm_dates, cesm_lin_reg, color='#c267c0', linestyle='dashdot', linewidth=1.5)\n",
    "plt.plot(cesm_dates, omi_mls_lin_reg, color='#7d0f25', linestyle='dashdot', linewidth=1.5)\n",
    "#plt.plot(cesm_dates, linreg, color='black', linestyle='dashdot', linewidth=1.5)\n",
    "plt.grid(True, linestyle='--', alpha=0.7)\n",
    "\n",
    "#cesm_mean = f\"{cesm_dates.mean().data:.3f}\"\n",
    "\n",
    "ax.text(0.915, 0.975, 'CESM ' + '$R^2=$' + f\"{r_squared_cesm:.3f}\", horizontalalignment='center', verticalalignment='center', transform=ax.transAxes, fontsize=15, color='#91268f')\n",
    "ax.text(0.858, 0.935, f'y = {cesm_slope:.2f}x + {cesm_intercept:.2f}' + \" DU/month\", horizontalalignment='center', verticalalignment='center', transform=ax.transAxes, fontsize=15, color='#91268f')\n",
    "\n",
    "\n",
    "#omi_mls_mean = f\"{cesm_dates.mean().data:.3f}\"\n",
    "\n",
    "ax.text(0.1, 0.06, 'OMI/MLS ' + '$R^2=$' + f\"{r_squared_omi_mls:.3f}\", horizontalalignment='center', verticalalignment='center', transform=ax.transAxes, fontsize=15, color='#540817')\n",
    "ax.text(0.145, 0.02, f'y = {omi_mls_slope:.2f}x + {omi_mls_intercept:.2f}' + \" DU/month\", horizontalalignment='center', verticalalignment='center', transform=ax.transAxes, fontsize=15, color='#540817')\n",
    "\n",
    "\n",
    "ax.xaxis.set_minor_locator(AutoMinorLocator(2))\n",
    "ax.yaxis.set_minor_locator(AutoMinorLocator(2))\n",
    "ax.tick_params(which='major', width=2)\n",
    "ax.tick_params(which='minor', width=1)\n",
    "ax.tick_params(which='major', length=5)\n",
    "ax.tick_params(which='minor', length=4)\n",
    "\n",
    "\n",
    "plt.legend(['CESM', 'OMI/MLS'], loc='lower right', prop={'size':  14})\n",
    "           \n",
    "plt.title(\"Ground-to-300hPa TCO\", fontsize=19)\n",
    "plt.ylabel(\"$\\mathregular{O_3}$ Concentration (DU)\", fontsize=15)\n",
    "plt.xticks(rotation=45)\n",
    "plt.tight_layout()\n",
    "    \n",
    "#plt.savefig(\"figures/Annual_Time_Series_300_hPa_BOTH.png\")\n",
    "\n",
    "plt.show()"
   ]
  },
  {
   "cell_type": "code",
   "execution_count": null,
   "id": "fad36905-101b-4988-a61d-5eb7762a0095",
   "metadata": {},
   "outputs": [],
   "source": []
  },
  {
   "cell_type": "code",
   "execution_count": null,
   "id": "8cfa36d4-f2f3-4cf2-aa25-4aabca25f693",
   "metadata": {},
   "outputs": [],
   "source": []
  }
 ],
 "metadata": {
  "kernelspec": {
   "display_name": "NPL 2025a",
   "language": "python",
   "name": "npl-2025a"
  },
  "language_info": {
   "codemirror_mode": {
    "name": "ipython",
    "version": 3
   },
   "file_extension": ".py",
   "mimetype": "text/x-python",
   "name": "python",
   "nbconvert_exporter": "python",
   "pygments_lexer": "ipython3",
   "version": "3.12.8"
  }
 },
 "nbformat": 4,
 "nbformat_minor": 5
}
