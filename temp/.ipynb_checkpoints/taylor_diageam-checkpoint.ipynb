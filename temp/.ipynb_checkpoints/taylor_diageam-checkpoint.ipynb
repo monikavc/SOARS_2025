{
 "cells": [
  {
   "cell_type": "code",
   "execution_count": 1,
   "id": "4dc0cba3-abb1-412b-bb6b-92108c7f5edd",
   "metadata": {},
   "outputs": [],
   "source": [
    "import skill_metrics as sm\n",
    "import numpy as np\n",
    "import matplotlib.pyplot as plt\n",
    "import xarray as xr\n",
    "import xesmf as xe"
   ]
  },
  {
   "cell_type": "code",
   "execution_count": 2,
   "id": "1360f24b-7bc6-46a1-acfa-0f5bfe5f8186",
   "metadata": {},
   "outputs": [],
   "source": [
    "omi_mls_ds = xr.open_dataarray(\"/glade/u/home/mvoncyga/SOARS_2025/300hpa_full_monthly_omimls_tco.nc\")\n",
    "cesm_output1 = xr.open_dataarray(\"/glade/u/home/mvoncyga/SOARS_2025/300hPa_tco_cesm_monthly.nc\")\n",
    "cesm_output2 = xr.open_dataarray(\"/glade/u/home/mvoncyga/SOARS_2025/100hPa_tco_monthly.nc\")"
   ]
  },
  {
   "cell_type": "code",
   "execution_count": 3,
   "id": "9b5be0f4-d6f0-4a6d-9ecd-0adbbb0f89cb",
   "metadata": {},
   "outputs": [],
   "source": [
    "regridder1 = xe.Regridder(cesm_output1, omi_mls_ds, 'bilinear', periodic=True) \n",
    "cesm_regridded1 = regridder1(cesm_output1)\n",
    "\n",
    "regridder2 = xe.Regridder(cesm_output2, omi_mls_ds, 'bilinear', periodic=True) \n",
    "cesm_regridded2 = regridder2(cesm_output2)"
   ]
  },
  {
   "cell_type": "code",
   "execution_count": 8,
   "id": "7b35abab-275a-4c47-bb2a-1f56629e5a98",
   "metadata": {},
   "outputs": [],
   "source": [
    "#omi_mls_ds = omi_mls_ds.mean('yearmonth')\n",
    "cesm_regridded1 = cesm_regridded1.mean('time')\n",
    "#cesm_regridded2 = cesm_regridded2.mean('time')"
   ]
  },
  {
   "cell_type": "code",
   "execution_count": 9,
   "id": "6fbdf31a-c3bb-42dc-b6f2-0bb6a68eaa78",
   "metadata": {},
   "outputs": [],
   "source": [
    "# Example data (replace with your actual data)\n",
    "ref = omi_mls_ds * 10\n",
    "model1 = cesm_regridded1 * 2\n",
    "model2 = cesm_regridded2 * 3"
   ]
  },
  {
   "cell_type": "code",
   "execution_count": 12,
   "id": "174aa269-eb64-4953-ab24-7548b2e94e76",
   "metadata": {},
   "outputs": [],
   "source": [
    "# Calculate statistics for each model against the reference\n",
    "sdev_ref = np.std(ref)\n",
    "sdev_model1 = np.std(model1)\n",
    "sdev_model2 = np.std(model2)\n",
    "\n",
    "ccoef_model1 = np.corrcoef(ref, model1)[0, 1]\n",
    "ccoef_model2 = np.corrcoef(ref, model2)[0, 1]"
   ]
  },
  {
   "cell_type": "code",
   "execution_count": null,
   "id": "6460e2fa-90fe-41eb-94b2-2539347c964a",
   "metadata": {},
   "outputs": [],
   "source": []
  }
 ],
 "metadata": {
  "kernelspec": {
   "display_name": "NPL 2025a",
   "language": "python",
   "name": "npl-2025a"
  },
  "language_info": {
   "codemirror_mode": {
    "name": "ipython",
    "version": 3
   },
   "file_extension": ".py",
   "mimetype": "text/x-python",
   "name": "python",
   "nbconvert_exporter": "python",
   "pygments_lexer": "ipython3",
   "version": "3.12.8"
  }
 },
 "nbformat": 4,
 "nbformat_minor": 5
}
