{
 "cells": [
  {
   "cell_type": "code",
   "execution_count": 1,
   "id": "4dc0cba3-abb1-412b-bb6b-92108c7f5edd",
   "metadata": {},
   "outputs": [],
   "source": [
    "import skill_metrics as sm\n",
    "import numpy as np\n",
    "import matplotlib.pyplot as plt\n",
    "import xarray as xr\n",
    "import xesmf as xe"
   ]
  },
  {
   "cell_type": "code",
   "execution_count": 2,
   "id": "1360f24b-7bc6-46a1-acfa-0f5bfe5f8186",
   "metadata": {},
   "outputs": [],
   "source": [
    "omi_mls_ds = xr.open_dataarray(\"/glade/u/home/mvoncyga/SOARS_2025/300hpa_full_monthly_omimls_tco.nc\")\n",
    "cesm_output1 = xr.open_dataarray(\"/glade/u/home/mvoncyga/SOARS_2025/300hPa_tco_cesm_monthly.nc\")\n",
    "cesm_output2 = xr.open_dataarray(\"/glade/u/home/mvoncyga/SOARS_2025/100hPa_tco_monthly.nc\")"
   ]
  },
  {
   "cell_type": "code",
   "execution_count": 3,
   "id": "9b5be0f4-d6f0-4a6d-9ecd-0adbbb0f89cb",
   "metadata": {},
   "outputs": [],
   "source": [
    "regridder1 = xe.Regridder(cesm_output1, omi_mls_ds, 'bilinear', periodic=True) \n",
    "cesm_regridded1 = regridder1(cesm_output1)\n",
    "\n",
    "regridder2 = xe.Regridder(cesm_output2, omi_mls_ds, 'bilinear', periodic=True) \n",
    "cesm_regridded2 = regridder2(cesm_output2)"
   ]
  },
  {
   "cell_type": "code",
   "execution_count": 4,
   "id": "7b35abab-275a-4c47-bb2a-1f56629e5a98",
   "metadata": {},
   "outputs": [],
   "source": [
    "omi_mls_ds = omi_mls_ds.mean('yearmonth')\n",
    "cesm_regridded1 = cesm_regridded1.mean('time')\n",
    "cesm_regridded2 = cesm_regridded2.mean('time')"
   ]
  },
  {
   "cell_type": "code",
   "execution_count": 11,
   "id": "6fbdf31a-c3bb-42dc-b6f2-0bb6a68eaa78",
   "metadata": {},
   "outputs": [],
   "source": [
    "# Example data (replace with your actual data)\n",
    "# Example data (replace with your actual data)\n",
    "#ref = omi_mls_ds  # Reference data\n",
    "#model1 = ref + cesm_regridded1 * 0.5  # Model 1\n",
    "#model2 = ref + cesm_regridded2 * 0.8  # Model 2\n",
    "\n",
    "# Example data (replace with your actual data)\n",
    "ref = np.random.rand(100)  # Reference data\n",
    "model1 = ref + np.random.rand(100) * 0.5  # Model 1\n",
    "model2 = ref + np.random.rand(100) * 0.8  # Model 2"
   ]
  },
  {
   "cell_type": "code",
   "execution_count": null,
   "id": "ed0fdab6-60e7-4dd0-b7ff-e249ef707580",
   "metadata": {},
   "outputs": [],
   "source": [
    "model1_sdev = model1_sdev.values\n",
    "#model2_sdev = model2_sdev.values\n",
    "\n",
    "#model1_ccoef = model1_ccoef.to_numpy()\n",
    "#model2_ccoef = model2_ccoef.to_numpy()"
   ]
  },
  {
   "cell_type": "code",
   "execution_count": 13,
   "id": "a8af66c4-e4b9-471a-9706-7810a901a527",
   "metadata": {},
   "outputs": [
    {
     "ename": "NameError",
     "evalue": "name 'model1_sdev' is not defined",
     "output_type": "error",
     "traceback": [
      "\u001b[0;31m---------------------------------------------------------------------------\u001b[0m",
      "\u001b[0;31mNameError\u001b[0m                                 Traceback (most recent call last)",
      "Cell \u001b[0;32mIn[13], line 6\u001b[0m\n\u001b[1;32m      4\u001b[0m fig \u001b[38;5;241m=\u001b[39m plt\u001b[38;5;241m.\u001b[39mfigure(figsize\u001b[38;5;241m=\u001b[39m(\u001b[38;5;241m10\u001b[39m, \u001b[38;5;241m10\u001b[39m))\n\u001b[1;32m      5\u001b[0m \u001b[38;5;66;03m# If using skill_metrics:\u001b[39;00m\n\u001b[0;32m----> 6\u001b[0m sm\u001b[38;5;241m.\u001b[39mtaylor_diagram(ref, STDs \u001b[38;5;241m=\u001b[39m [\u001b[43mmodel1_sdev\u001b[49m, model2_sdev],\n\u001b[1;32m      7\u001b[0m                   CORs \u001b[38;5;241m=\u001b[39m [model1_ccoef, model2_ccoef],\n\u001b[1;32m      8\u001b[0m                   label_name\u001b[38;5;241m=\u001b[39m[\u001b[38;5;124m'\u001b[39m\u001b[38;5;124mModel 1\u001b[39m\u001b[38;5;124m'\u001b[39m, \u001b[38;5;124m'\u001b[39m\u001b[38;5;124mModel 2\u001b[39m\u001b[38;5;124m'\u001b[39m],\n\u001b[1;32m      9\u001b[0m                   marker_size\u001b[38;5;241m=\u001b[39m\u001b[38;5;241m8\u001b[39m,\n\u001b[1;32m     10\u001b[0m                   marker_colors\u001b[38;5;241m=\u001b[39m[\u001b[38;5;124m'\u001b[39m\u001b[38;5;124mblue\u001b[39m\u001b[38;5;124m'\u001b[39m, \u001b[38;5;124m'\u001b[39m\u001b[38;5;124mgreen\u001b[39m\u001b[38;5;124m'\u001b[39m],\n\u001b[1;32m     11\u001b[0m                   fig\u001b[38;5;241m=\u001b[39mfig)\n",
      "\u001b[0;31mNameError\u001b[0m: name 'model1_sdev' is not defined"
     ]
    },
    {
     "data": {
      "text/plain": [
       "<Figure size 1000x1000 with 0 Axes>"
      ]
     },
     "metadata": {},
     "output_type": "display_data"
    }
   ],
   "source": [
    "\n",
    "# 3. Create the Taylor Diagram\n",
    "\n",
    "# Initialize the Taylor diagram figure\n",
    "fig = plt.figure(figsize=(10, 10))\n",
    "# If using skill_metrics:\n",
    "sm.taylor_diagram(ref, STDs = [model1_sdev, model2_sdev],\n",
    "                  CORs = [model1_ccoef, model2_ccoef],\n",
    "                  label_name=['Model 1', 'Model 2'],\n",
    "                  marker_size=8,\n",
    "                  marker_colors=['blue', 'green'],\n",
    "                  fig=fig)"
   ]
  },
  {
   "cell_type": "code",
   "execution_count": null,
   "id": "6460e2fa-90fe-41eb-94b2-2539347c964a",
   "metadata": {},
   "outputs": [],
   "source": []
  }
 ],
 "metadata": {
  "kernelspec": {
   "display_name": "NPL 2025a",
   "language": "python",
   "name": "npl-2025a"
  },
  "language_info": {
   "codemirror_mode": {
    "name": "ipython",
    "version": 3
   },
   "file_extension": ".py",
   "mimetype": "text/x-python",
   "name": "python",
   "nbconvert_exporter": "python",
   "pygments_lexer": "ipython3",
   "version": "3.12.8"
  }
 },
 "nbformat": 4,
 "nbformat_minor": 5
}
