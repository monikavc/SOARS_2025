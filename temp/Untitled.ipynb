{
 "cells": [
  {
   "cell_type": "code",
   "execution_count": 20,
   "id": "90e8964f-6d1e-46be-ad78-4709c0200816",
   "metadata": {},
   "outputs": [],
   "source": [
    "# Initialize pressure edge arrays\n",
    "mod_press_low = xr.zeros_like(ozone)\n",
    "mod_press_top = xr.zeros_like(ozone)\n",
    "\n",
    "# Calculate pressure edge arrays\n",
    "# CAM-chem layer indices start at the top and end at the bottom\n",
    "\n",
    "#for i in range(num_lev):\n",
    "#    mod_press_top[i,:,:] = hyai[i]*p0 + hybi[i]*ps\n",
    "#    mod_press_low[i,:,:] = hyai[i+1]*p0 + hybi[i+1]*ps\n",
    "\n",
    "# for the lower levels:\n",
    "    \n",
    "# Delta P in hPa\n",
    "#mod_deltap = (mod_press_low - mod_press_top)/100\n",
    "#print(mod_press_low[:,0,0])\n",
    "#print(mod_press_top[:,0,0])\n",
    "#print(mod_deltap[:,0,0])"
   ]
  },
  {
   "cell_type": "code",
   "execution_count": null,
   "id": "74e2c478-d0aa-440b-90b0-c835685cf0be",
   "metadata": {},
   "outputs": [],
   "source": [
    "# plot the monthly means\n",
    "\n",
    "#month_list = ['January', 'February', 'March', 'April', 'May', 'June', 'July', 'August', \n",
    " #             'September', 'October', 'November', 'December']\n",
    "#alphabet = ['a', 'b', 'c', 'd', 'e', 'f', 'g', 'h', 'i', 'j', 'k', 'l'] # for cycling through figures to create a gif\n",
    "#i=0\n",
    "\n",
    "for month in month_list:\n",
    "    plt.figure(figsize=(10, 6))\n",
    "    ax = plt.axes(projection=ccrs.PlateCarree())\n",
    "    ozone_du_column[i].plot(ax=ax,transform=ccrs.PlateCarree(central_longitude=0), vmin=5, vmax=35, extend='both')\n",
    "    ax.add_feature(cfeature.COASTLINE, linestyle='--')\n",
    "    ax.set_global()\n",
    "\n",
    "    # adding gridlines\n",
    "    ax.gridlines(draw_labels=True, color='black', alpha=0.5, linestyle='--')\n",
    "\n",
    "    ax.set_title('CESM Tropospheric Ozone: ' + str(month) + ', 2005-2024', fontsize=14)\n",
    "    formatted_mean = f\"{ozone_du_column[i].mean().data:.3f}\"\n",
    "\n",
    "    ax.text(0.10, -0.25, 'Mean: ' + str(formatted_mean) + ' DU', va='bottom', ha='center',\n",
    "            rotation='horizontal', rotation_mode='anchor',\n",
    "            transform=ax.transAxes, fontsize=12)\n",
    "\n",
    "    #plt.savefig('figures/CESM_DU_Output-' + str(alphabet[i]))\n",
    "    plt.show()\n",
    "    i+=1"
   ]
  }
 ],
 "metadata": {
  "kernelspec": {
   "display_name": "NPL 2025a",
   "language": "python",
   "name": "npl-2025a"
  },
  "language_info": {
   "codemirror_mode": {
    "name": "ipython",
    "version": 3
   },
   "file_extension": ".py",
   "mimetype": "text/x-python",
   "name": "python",
   "nbconvert_exporter": "python",
   "pygments_lexer": "ipython3",
   "version": "3.12.8"
  }
 },
 "nbformat": 4,
 "nbformat_minor": 5
}
