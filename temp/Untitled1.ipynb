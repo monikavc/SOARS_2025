{
 "cells": [
  {
   "cell_type": "code",
   "execution_count": 1,
   "id": "284300a9-feec-476a-af0c-37f60b01ecd1",
   "metadata": {},
   "outputs": [],
   "source": [
    "import xarray as xe"
   ]
  },
  {
   "cell_type": "code",
   "execution_count": null,
   "id": "2eb1c9bd-2195-4fa9-8370-986ae1ec38ec",
   "metadata": {},
   "outputs": [],
   "source": [
    "test = xe.open_dataarray(\"/glade/\")"
   ]
  }
 ],
 "metadata": {
  "kernelspec": {
   "display_name": "NPL 2025a",
   "language": "python",
   "name": "npl-2025a"
  },
  "language_info": {
   "codemirror_mode": {
    "name": "ipython",
    "version": 3
   },
   "file_extension": ".py",
   "mimetype": "text/x-python",
   "name": "python",
   "nbconvert_exporter": "python",
   "pygments_lexer": "ipython3",
   "version": "3.12.8"
  }
 },
 "nbformat": 4,
 "nbformat_minor": 5
}
